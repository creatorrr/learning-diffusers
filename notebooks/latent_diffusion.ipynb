{
 "cells": [
  {
   "cell_type": "code",
   "execution_count": 1,
   "id": "24a0ea43",
   "metadata": {},
   "outputs": [],
   "source": [
    "import PIL.Image as Img, torch, numpy as np"
   ]
  },
  {
   "cell_type": "code",
   "execution_count": 2,
   "id": "509eea38",
   "metadata": {},
   "outputs": [],
   "source": [
    "from diffusers import DiffusionPipeline"
   ]
  },
  {
   "cell_type": "code",
   "execution_count": 3,
   "id": "654e73bd",
   "metadata": {},
   "outputs": [],
   "source": [
    "pipeline = DiffusionPipeline.from_pretrained(\"fusing/latent-diffusion-text2im-large\")"
   ]
  },
  {
   "cell_type": "code",
   "execution_count": 4,
   "id": "3decc2d9",
   "metadata": {},
   "outputs": [],
   "source": [
    "def generate(text):\n",
    "    \n",
    "    img = pipeline([text], eta=0.3, guidance_scale=6.0, num_inference_steps=50)\n",
    "    img = img.cpu().permute(0, 2, 3, 1)\n",
    "    img = (img * 256.).numpy().astype(np.uint8)\n",
    "    image_pil = Img.fromarray(img[0])\n",
    "    return image_pil\n",
    "    "
   ]
  },
  {
   "cell_type": "code",
   "execution_count": 5,
   "id": "66c59b07",
   "metadata": {},
   "outputs": [],
   "source": [
    "generate(\"baby yoda sneezing\").save(\"./outputs/baby-yoda-sneezing.PNG\")"
   ]
  }
 ],
 "metadata": {},
 "nbformat": 4,
 "nbformat_minor": 5
}
